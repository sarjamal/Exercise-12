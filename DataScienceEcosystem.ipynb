{
  "metadata": {
    "kernelspec": {
      "name": "python",
      "display_name": "Python (Pyodide)",
      "language": "python"
    },
    "language_info": {
      "codemirror_mode": {
        "name": "python",
        "version": 3
      },
      "file_extension": ".py",
      "mimetype": "text/x-python",
      "name": "python",
      "nbconvert_exporter": "python",
      "pygments_lexer": "ipython3",
      "version": "3.8"
    }
  },
  "nbformat_minor": 5,
  "nbformat": 4,
  "cells": [
    {
      "id": "09333239-d1b2-4a17-ab7d-ea923949be65",
      "cell_type": "markdown",
      "source": "# Data Science Tools and Ecosystem\n",
      "metadata": {}
    },
    {
      "id": "c652509a-ac34-49f3-8e0f-ee90cb72d828",
      "cell_type": "markdown",
      "source": "In this notebook, Data Science Tools and Ecosystem are summarized.",
      "metadata": {}
    },
    {
      "id": "c17b9f23-f2d8-4add-8951-591ba8736d4e",
      "cell_type": "markdown",
      "source": "Some of the popular languages that Data Scientists use are:\n1. python\n2. R\n3. SQL\n4. C++",
      "metadata": {}
    },
    {
      "id": "014f2fb2-1349-401d-ad1d-236cdb5d19fc",
      "cell_type": "markdown",
      "source": "Some of the commonly used libraries used by Data Scientists include:\n1. Tensorflow.\n2. NumPy.\n3. SciPy.\n4. Pandas.",
      "metadata": {}
    },
    {
      "id": "309e60df-ae6b-4c48-a682-67b0ae6518fa",
      "cell_type": "markdown",
      "source": "|Data Science Tools|\n|---|\n|SAS|\n|Apache Hadoop|\n|Tensorflow|",
      "metadata": {}
    },
    {
      "id": "1ce8e47d-e732-4fd4-8f67-61e4b7e222c5",
      "cell_type": "markdown",
      "source": "### Below are a few examples of evaluating arithmetic expressions in Python.\n",
      "metadata": {}
    },
    {
      "id": "a40919d3-f20d-4c9e-82d5-1a9511aa03d7",
      "cell_type": "code",
      "source": "#This a simple arithmetic expression to mutiply then add integers.\n(3*4)+5",
      "metadata": {
        "trusted": true
      },
      "outputs": [
        {
          "execution_count": 7,
          "output_type": "execute_result",
          "data": {
            "text/plain": "17"
          },
          "metadata": {}
        }
      ],
      "execution_count": 7
    },
    {
      "id": "602dc515-a8d2-40b6-829f-c7a5b2bef4a4",
      "cell_type": "code",
      "source": "#This will convert 200 minutes to hours by diving by 60.\n200/60\n",
      "metadata": {
        "trusted": true
      },
      "outputs": [
        {
          "execution_count": 8,
          "output_type": "execute_result",
          "data": {
            "text/plain": "3.3333333333333335"
          },
          "metadata": {}
        }
      ],
      "execution_count": 8
    },
    {
      "id": "89b64825-57cb-438b-ad14-612854663f5a",
      "cell_type": "markdown",
      "source": "__objective__\n* List popular languages for Data Science\n* List popular libraries for Data Science\n* List of Well known Data Science Tools",
      "metadata": {}
    },
    {
      "id": "7c58b258-b2cd-4bdc-8ac5-45d023a919cd",
      "cell_type": "markdown",
      "source": "## Author \nSarah Jamal",
      "metadata": {}
    },
    {
      "id": "abb01aea-94fb-4c66-be7e-8f3aceb301d8",
      "cell_type": "code",
      "source": "",
      "metadata": {
        "trusted": true
      },
      "outputs": [],
      "execution_count": null
    }
  ]
}